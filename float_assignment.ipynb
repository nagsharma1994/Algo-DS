{
  "nbformat": 4,
  "nbformat_minor": 0,
  "metadata": {
    "colab": {
      "name": "float_assignment.ipynb",
      "provenance": [],
      "include_colab_link": true
    },
    "kernelspec": {
      "name": "python3",
      "display_name": "Python 3"
    }
  },
  "cells": [
    {
      "cell_type": "markdown",
      "metadata": {
        "id": "view-in-github",
        "colab_type": "text"
      },
      "source": [
        "<a href=\"https://colab.research.google.com/github/nagsharma1994/Algo-DS/blob/master/float_assignment.ipynb\" target=\"_parent\"><img src=\"https://colab.research.google.com/assets/colab-badge.svg\" alt=\"Open In Colab\"/></a>"
      ]
    },
    {
      "cell_type": "code",
      "metadata": {
        "id": "dlrMB-Qy2taV",
        "outputId": "7c0c712e-dec0-4920-c700-191b3843cf99",
        "colab": {
          "base_uri": "https://localhost:8080/",
          "height": 51
        }
      },
      "source": [
        "#Declare a float value and store it in a variable. \n",
        "num = 34.3234\n",
        "\n",
        "\n",
        "\n",
        "\n",
        "\n",
        "\n",
        "#Check the type and print the id of the same.\n",
        "\n",
        "print(type(num))\n",
        "id(num)\n"
      ],
      "execution_count": 18,
      "outputs": [
        {
          "output_type": "stream",
          "text": [
            "<class 'float'>\n"
          ],
          "name": "stdout"
        },
        {
          "output_type": "execute_result",
          "data": {
            "text/plain": [
              "139824587325352"
            ]
          },
          "metadata": {
            "tags": []
          },
          "execution_count": 18
        }
      ]
    },
    {
      "cell_type": "code",
      "metadata": {
        "id": "WjhDcFe20rEP"
      },
      "source": [
        ""
      ],
      "execution_count": null,
      "outputs": []
    },
    {
      "cell_type": "code",
      "metadata": {
        "id": "IL4fVDHg2wbI",
        "outputId": "7431e3a2-5cbf-4b7a-d7de-a701fc555a7f",
        "colab": {
          "base_uri": "https://localhost:8080/",
          "height": 136
        }
      },
      "source": [
        "#Arithmatic Operations on float\n",
        "#Take two different float values.\n",
        "#Store them in two different variables.\n",
        "f1 = 23.33\n",
        "f2 = 33.33\n",
        "\n",
        "#Do below operations on them:-\n",
        "    #Find sum of both numbers\n",
        "print(f1 + f2)\n",
        "\n",
        "    #Find differce between them\n",
        "print(f2-f1)\n",
        "    #Find the product of both numbers.\n",
        "print(f1 * f2)\n",
        "    #Find value after dividing first num with second number\n",
        "print(f1/ f2)\n",
        "    #Find the remainder after dividing first number with second number\n",
        "print(f1%f2)\n",
        "    #Find the quotient after dividing first number with second number\n",
        "print(f1//f2)\n",
        "    #Find the result of first num to the power of second number.\n",
        "print(f1**f2)"
      ],
      "execution_count": 20,
      "outputs": [
        {
          "output_type": "stream",
          "text": [
            "56.66\n",
            "10.0\n",
            "777.5888999999999\n",
            "0.6999699969997\n",
            "23.33\n",
            "0.0\n",
            "3.913796531244211e+45\n"
          ],
          "name": "stdout"
        }
      ]
    },
    {
      "cell_type": "code",
      "metadata": {
        "id": "atCFaH6c2492",
        "outputId": "179a3768-b93e-4757-c776-77f155c9a40f",
        "colab": {
          "base_uri": "https://localhost:8080/",
          "height": 85
        }
      },
      "source": [
        "#Comparison Operators on float\n",
        "#Take two different float values.\n",
        "#Store them in two different variables.\n",
        "\n",
        "#Do below operations on them:-\n",
        "    #Compare these two numbers with below operator:-\n",
        "        #Greater than, '>'\n",
        "\n",
        "        #Smaller than, '<'\n",
        "\n",
        "        #Greater than or equal to, '>='\n",
        "\n",
        "        #Less than or equal to, '<='\n",
        "\n",
        "a = 43.55\n",
        "b = 22.33\n",
        "\n",
        "print(a > b)\n",
        "print(a < b)\n",
        "print(a >= b)\n",
        "print(a <= b)\n",
        "\n",
        "#Observe their output(return type should be boolean)\n",
        "\n",
        "\n",
        "\n",
        "\n",
        "\n",
        "\n",
        "\n",
        "\n"
      ],
      "execution_count": 15,
      "outputs": [
        {
          "output_type": "stream",
          "text": [
            "True\n",
            "False\n",
            "True\n",
            "False\n"
          ],
          "name": "stdout"
        }
      ]
    },
    {
      "cell_type": "code",
      "metadata": {
        "id": "agi3U3863A5i",
        "outputId": "0a2ea2b8-5812-4367-fa50-3f0371d7629d",
        "colab": {
          "base_uri": "https://localhost:8080/",
          "height": 51
        }
      },
      "source": [
        "#Equality Operator\n",
        "#Take two different float values.\n",
        "#Store them in two different variables.\n",
        "\n",
        "#Equuate them using equality operator (==, !=)\n",
        "\n",
        "#Observe the output(return type should be boolean)\n",
        "\n",
        "d = 10.55\n",
        "e = 12.55\n",
        "print(d==e)\n",
        "print(d!=e)\n",
        "\n",
        "\n",
        "\n",
        "\n"
      ],
      "execution_count": 16,
      "outputs": [
        {
          "output_type": "stream",
          "text": [
            "False\n",
            "True\n"
          ],
          "name": "stdout"
        }
      ]
    },
    {
      "cell_type": "code",
      "metadata": {
        "id": "3HLlgaEt3EnJ",
        "outputId": "a1fabd9c-06f8-4812-ce6d-166d96a55826",
        "colab": {
          "base_uri": "https://localhost:8080/",
          "height": 187
        }
      },
      "source": [
        "#Logical operators\n",
        "#Observe the output of below code\n",
        "#Cross check the output manually\n",
        "\n",
        "print(10.20 and 20.30)       #both are true and second value taken >Output is 20.3\n",
        "print(0.0 and 20.30)         #First is false so first value taken->Output is 0.0\n",
        "print(20.30 and 0.0)         #Goes to till second and second value is false so second is taken>Output is 0.0\n",
        "print(0.0 and 0.0)           #First is false so first value is taken->Output is 0.0\n",
        "\n",
        "print(10.20 or 20.30)        #First is True so first value is taken>Output is 10.2\n",
        "print(0.0 or 20.30)          #Goes to till second and second is true second value is taken->Output is 20.3\n",
        "print(20.30 or 0.0)          #First is True so first value is taken->Output is 20.3\n",
        "print(0.0 or 0.0)            #Goes to till second and secod is also false and second value is taken>Output is 0.0\n",
        "\n",
        "print(not 10.20)             #-Not of true is false->Output is False\n",
        "print(not 0.0)               #Not of false is True>Output is True"
      ],
      "execution_count": 17,
      "outputs": [
        {
          "output_type": "stream",
          "text": [
            "20.3\n",
            "0.0\n",
            "0.0\n",
            "0.0\n",
            "10.2\n",
            "20.3\n",
            "20.3\n",
            "0.0\n",
            "False\n",
            "True\n"
          ],
          "name": "stdout"
        }
      ]
    },
    {
      "cell_type": "code",
      "metadata": {
        "id": "7YdyRNtk3UZd"
      },
      "source": [
        "#What is the output of expression inside print statement. Cross check before running the program.\n",
        "a = 10.20\n",
        "b - 10.20\n",
        "print(a is b)          #True or False? True 10.20<256\n",
        "print(a is not b)      #True or False? False\n",
        "\n",
        "\n",
        "# Why the Id of float values are different when the same value is assigned to two different variables\n",
        "\n",
        "\n",
        "# ex: a = 10.5 b=10.5. but id will be same if I assign the variable having float i.e. a=c then both a anc c's\n",
        "# Id are same\n"
      ],
      "execution_count": null,
      "outputs": []
    },
    {
      "cell_type": "code",
      "metadata": {
        "id": "iTvnIMLd3VLW"
      },
      "source": [
        "#Bitwise operation is not applicable between instances of float.\n",
        "## Why the Id of float values are different when the same value is assigned to two different variables\n",
        "## ex: a = 10.5 b=10.5. but id will be same if I assign the variable having float i.e. a=c then both a anc c's\n",
        "## Id are same\n",
        "#Object reusability concept is not applicable on float values."
      ],
      "execution_count": null,
      "outputs": []
    },
    {
      "cell_type": "code",
      "metadata": {
        "id": "29AVJHpx3YUo"
      },
      "source": [
        "#Membership operation\n",
        "#in, not in are two membership operators and it returns boolean value\n",
        "\n",
        "print('2.7' in 'Python2.7.8')              #True\n",
        "print(10.20 in [10,10.20,10+20j,'Python']) #True\n",
        "print(10.20 in (10,10.20,10+20j,'Python')) # True\n",
        "print(20.30 in {1,20.30,30+40j})           # True\n",
        "print(2.3 in {1:100, 2.3:200, 30+40j:300}) # True\n",
        "print(10 in range(20))                     # True"
      ],
      "execution_count": null,
      "outputs": []
    }
  ]
}